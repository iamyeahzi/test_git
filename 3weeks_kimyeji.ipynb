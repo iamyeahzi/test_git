{
 "cells": [
  {
   "cell_type": "markdown",
   "id": "1a5ebfa1-586e-4d69-9183-8af51e70b2f3",
   "metadata": {},
   "source": [
    "# - 함수응용(예외처리 필수)"
   ]
  },
  {
   "cell_type": "markdown",
   "id": "3f141e84-0726-4cd1-ae59-deaa8a6c4abc",
   "metadata": {},
   "source": [
    "> 1. 로또 번호 생성기 함수를 만들어라. 정렬까지 포함할 것."
   ]
  },
  {
   "cell_type": "code",
   "execution_count": null,
   "id": "b73722df-1304-410f-b0fb-7b2dc473347b",
   "metadata": {},
   "outputs": [
    {
     "name": "stdout",
     "output_type": "stream",
     "text": [
      "[18, 27, 31, 36, 37, 40]\n"
     ]
    }
   ],
   "source": [
    "# import random = 난수 발생을 위한 라이브러리 임포트\n",
    "import random\n",
    "\n",
    "def Lotto():\n",
    "    try:\n",
    "        \n",
    "        # lotto_num = 로또 번호를 저장할 리스트\n",
    "        # random.sample(range(x,y),z) = x 이상 y 미만의 수 중, 랜덤으로 z개의 값을 리스트로 반환\n",
    "        lotto_num = random.sample(range(1,46),6)\n",
    "    \n",
    "        # sort() 함수 = 오름차순 정렬\n",
    "        lotto_num.sort()\n",
    "    \n",
    "        # 로또 번호 출력\n",
    "        print(lotto_num)\n",
    "\n",
    "    # try 블록 중 에러 발생 시 실행    \n",
    "    except:\n",
    "        print(\"로또 번호 생성 불가. \")\n",
    "\n",
    "# 함수 호출        \n",
    "Lotto()"
   ]
  },
  {
   "cell_type": "markdown",
   "id": "07ac714f-1264-41ee-bd09-d091aae83e7b",
   "metadata": {},
   "source": [
    "> 2. 다음과 같이 문자열을 분석하는 함수를 만들어라. 반드시 내장함수를 이용하라"
   ]
  },
  {
   "cell_type": "code",
   "execution_count": null,
   "id": "9f826f58-ac3b-4337-b364-d9334c052150",
   "metadata": {},
   "outputs": [
    {
     "name": "stdin",
     "output_type": "stream",
     "text": [
      "문자열 입력 : python\n"
     ]
    },
    {
     "name": "stdout",
     "output_type": "stream",
     "text": [
      "문자의 개수 : 6\n",
      "가장 큰 문자열 : y\n",
      "뒤집은 문자열 : nohtyp\n"
     ]
    }
   ],
   "source": [
    "# analyze() 함수 = 문자열을 분석하는 함수\n",
    "def analyze():\n",
    "    try:\n",
    "        user_input = input(\"문자열 입력 :\")\n",
    "        \n",
    "    # try 블록 중 에러 발생 시 실행    \n",
    "    except:\n",
    "        print(\"입력이 정확하지 않습니다. \")\n",
    "        \n",
    "    # try 블록 중 에러가 없을 때 실행    \n",
    "    else:\n",
    "        \n",
    "        # isalpha() 함수 = 입력 받은 값이 문자열인지 확인 / True = 입력 받은 값이 문자열일 때 \n",
    "        if user_input.isalpha() == True:\n",
    "            \n",
    "            # len() 함수 = 문자열의 길이 반환\n",
    "            print(\"문자의 개수 : %d\" %len(user_input))\n",
    "            \n",
    "            # max() 함수 = 문자열의 문자 중 아스키코드 값이 가장 큰 값 반환\n",
    "            print(\"가장 큰 문자열 : %c\" %max(user_input))\n",
    "            \n",
    "            # user_input[::-1] = 문자열 역순으로 출력\n",
    "            print(\"뒤집은 문자열 : %s\" %user_input[::-1])\n",
    "            \n",
    "        # else(False) = 입력 받은 값이 문자열이 아닐 때     \n",
    "        else:\n",
    "            print(\"입력이 정확하지 않습니다. \")\n",
    "\n",
    "# 함수 호출            \n",
    "analyze()"
   ]
  },
  {
   "cell_type": "markdown",
   "id": "4559c0c4-00f0-4ffc-b0ab-f07ad8cfa48c",
   "metadata": {},
   "source": [
    "> 3. 내장함수와 datetime라이브러리를 이용하여 지금을 출력하고, 49일 1시간 8분 7초 후가 언제인지 출력하는 함수를 만들어라."
   ]
  },
  {
   "cell_type": "code",
   "execution_count": null,
   "id": "a6b78941-2a71-4289-acdb-d48fbcb23a36",
   "metadata": {},
   "outputs": [
    {
     "name": "stdout",
     "output_type": "stream",
     "text": [
      "현재: 2021년 08월 23일 04시 12분 41초\n",
      "미래: 2021년 10월 11일 05시 20분 48초\n"
     ]
    }
   ],
   "source": [
    "# import datetime = 날짜와 시간을 받아오기 위한 라이브러리(모듈) 임포트\n",
    "import datetime\n",
    "\n",
    "# Cal_date() 함수 = 현재 날짜/시간과 특정 일자와 시간이 지난 날의 날짜/시간을 출력\n",
    "def Cal_date():\n",
    "    \n",
    "    try:\n",
    "        \n",
    "        # dt = datetime 모듈의 datetime 클래스를 이용(datetime.datetime)하여, 현재 날짜와 시간을 불러와(today()함수) 저장한 변수\n",
    "        dt = datetime.datetime.today()\n",
    "        \n",
    "        # dt.strftime() 함수 = 날짜와 시간을 *지시자를 이용하여 일정한 포맷으로 변환하여 출력\n",
    "        # 지시자 종류  \n",
    "        # %Y : 4자리연도를 10진수로 출력 \n",
    "        # %m : 월(month)을 0으로 채워진 두자리 10진수로 출력\n",
    "        # %d : 일(day)을 0으로 채워진 두자리 10진수로 출력\n",
    "        # %H : 24시간 시간제를 0으로 채워진 2자리 10진수로 출력\n",
    "        # %M : 시간의 분을 0으로 채워진 2자리 10진수로 출력\n",
    "        # %S : 시간의 초를 0으로 채워진 2자리 10잔수로 출력\n",
    "        \n",
    "        # 현재 날짜/시간 출력\n",
    "        print(\"현재: \"+ dt.strftime(\"%Y\") + \"년 \"+ dt.strftime(\"%m\") + \"월 \" \n",
    "              + dt.strftime(\"%d\") + \"일 \" + dt.strftime(\"%H\") + \"시 \" \n",
    "              + dt.strftime(\"%M\") + \"분 \" + dt.strftime(\"%S\") + \"초\")\n",
    "        \n",
    "        # dt2 = dt(현재 날짜와 시간)에 특정 일자와 시간 값을 더한 변수\n",
    "        # timedelta() 함수 = 특정 날짜/시간 값을 지정하여 현재 날짜/시간과의 증감 계산\n",
    "        dt2 = dt + timedelta(days=49, seconds=7, minutes=8, hours=1)\n",
    "        \n",
    "        # 49시간 1시간 8분 7초 뒤의 날짜/시간 출력\n",
    "        print(\"미래: \"+ dt2.strftime(\"%Y\") + \"년 \"+ dt2.strftime(\"%m\") + \"월 \" \n",
    "              + dt2.strftime(\"%d\") + \"일 \" + dt2.strftime(\"%H\") + \"시 \" \n",
    "              + dt2.strftime(\"%M\") + \"분 \" + dt2.strftime(\"%S\") + \"초\")\n",
    "    \n",
    "    # try 블록 중 에러 발생 시 실행    \n",
    "    except:\n",
    "        print(\"날짜/시간 데이터를 불러 올 수 없습니다.\")\n",
    "\n",
    "# 함수 호출\n",
    "Cal_date()"
   ]
  },
  {
   "cell_type": "markdown",
   "id": "8236a0b8-2c91-4c7e-82cb-0e44f11e5dbb",
   "metadata": {},
   "source": [
    "> 4. 정규표현식을 이용하여 이메일을 입력받으면 주어진 메일이 올바른 형식인지 파악하는 함수를 만들어라."
   ]
  },
  {
   "cell_type": "code",
   "execution_count": null,
   "id": "d7cc015b-0e1d-4cb7-af90-203a7c0cdda0",
   "metadata": {},
   "outputs": [
    {
     "name": "stdin",
     "output_type": "stream",
     "text": [
      "이메일 입력:  yeji@nav.co.kr\n"
     ]
    },
    {
     "name": "stdout",
     "output_type": "stream",
     "text": [
      "올바른 형식입니다.\n"
     ]
    }
   ],
   "source": [
    "# import re = 정규표현식을 지원하는 라이브러리(모듈) 임포트\n",
    "import re\n",
    "\n",
    "# Check_email() 함수 = 입력 받은 이메일의 정규표현식 준수 여부를 검사\n",
    "def Check_email():\n",
    "    \n",
    "    try:\n",
    "        \n",
    "        # 사용자 이메일 입력\n",
    "        user_email = input(\"이메일 입력: \")\n",
    "        \n",
    "        # '^[a-zA-Z0-9+-_.]+@[a-zA-Z0-9-]+\\.[a-zA-Z0-9-.]+$' = 파이썬 이메일 정규표현식\n",
    "        # a = 이메일 정규표현식을 컴파일(complie())한 객체\n",
    "        a = re.compile('^[a-zA-Z0-9+-_.]+@[a-zA-Z0-9-]+\\.[a-zA-Z0-9-.]+$')\n",
    "    \n",
    "    # try 블록 중 에러 발생 시 실행 \n",
    "    except:\n",
    "        print(\"입력 오류. 다시 입력해주세요.\")\n",
    "    \n",
    "    # try 블록 중 에러가 없을 때 실행 \n",
    "    else:\n",
    "        \n",
    "        # match() 함수 = 이메일 정규표현식을 컴파일한 객체와 사용자 이메일 형식의 동일 여부 검사(유효성 검사), 검사 미통과시 None을 반환\n",
    "        # not(!=) None = 유효성 검사를 통과했을 때\n",
    "        if a.match(user_email) != None:\n",
    "            print(\"올바른 형식입니다.\")\n",
    "            \n",
    "        # 유효성 검사를 통과하지 못했을 때    \n",
    "        else:\n",
    "            print(\"올바른 형식이 아닙니다.\")\n",
    "            \n",
    "\n",
    "# 함수 호출            \n",
    "Check_email()\n",
    "            \n",
    "        "
   ]
  },
  {
   "cell_type": "markdown",
   "id": "a48861e5-9135-476c-aba1-f561013d7768",
   "metadata": {},
   "source": [
    "> 5. 영한사전 프로그램을 만들어라. Dictionary 자료구조를 이용해야 하며 다음의 기능이 포함된다."
   ]
  },
  {
   "cell_type": "code",
   "execution_count": 2,
   "id": "d5cd52fa-c7e8-4bda-9872-ebda7af62af3",
   "metadata": {},
   "outputs": [
    {
     "name": "stdout",
     "output_type": "stream",
     "text": [
      "메뉴를 선택해주세요.\n",
      "1.입력\n",
      "2. 전체출력\n",
      "3. 영어로검색\n",
      "4. 한글로검색\n",
      "5. 종료\n"
     ]
    },
    {
     "name": "stdin",
     "output_type": "stream",
     "text": [
      ">>  입력\n"
     ]
    },
    {
     "name": "stdout",
     "output_type": "stream",
     "text": [
      "입력을 선택하셨습니다.\n",
      "영단어:한글단어 쌍으로 입력해주시고, 끝났다면 나가기를 입력해주세요.\n"
     ]
    },
    {
     "name": "stdin",
     "output_type": "stream",
     "text": [
      " apple:사과\n",
      " camel:낙타\n",
      " banana:바나나\n",
      " 나가기\n"
     ]
    },
    {
     "name": "stdout",
     "output_type": "stream",
     "text": [
      "------------------------------------------------------------\n",
      "메뉴를 선택해주세요.\n",
      "1.입력\n",
      "2. 전체출력\n",
      "3. 영어로검색\n",
      "4. 한글로검색\n",
      "5. 종료\n"
     ]
    },
    {
     "name": "stdin",
     "output_type": "stream",
     "text": [
      ">>  전체출력\n"
     ]
    },
    {
     "name": "stdout",
     "output_type": "stream",
     "text": [
      "전체출력 결과입니다.\n",
      "apple:사과\n",
      "camel:낙타\n",
      "banana:바나나\n",
      "------------------------------------------------------------\n",
      "메뉴를 선택해주세요.\n",
      "1.입력\n",
      "2. 전체출력\n",
      "3. 영어로검색\n",
      "4. 한글로검색\n",
      "5. 종료\n"
     ]
    },
    {
     "name": "stdin",
     "output_type": "stream",
     "text": [
      ">>  영어로검색\n"
     ]
    },
    {
     "name": "stdout",
     "output_type": "stream",
     "text": [
      "영어로 검색을 선택하셨습니다.\n",
      "영단어를 입력하세요.\n"
     ]
    },
    {
     "name": "stdin",
     "output_type": "stream",
     "text": [
      " camel\n"
     ]
    },
    {
     "name": "stdout",
     "output_type": "stream",
     "text": [
      "낙타\n",
      "계속 검색 가능 합니다.\n",
      "나가시려면 나가기를 입력해주세요.\n"
     ]
    },
    {
     "name": "stdin",
     "output_type": "stream",
     "text": [
      " banana\n"
     ]
    },
    {
     "name": "stdout",
     "output_type": "stream",
     "text": [
      "바나나\n",
      "계속 검색 가능 합니다.\n",
      "나가시려면 나가기를 입력해주세요.\n"
     ]
    },
    {
     "name": "stdin",
     "output_type": "stream",
     "text": [
      " dd\n"
     ]
    },
    {
     "name": "stdout",
     "output_type": "stream",
     "text": [
      "사전에 존재하지 않는 단어입니다.\n"
     ]
    },
    {
     "name": "stdin",
     "output_type": "stream",
     "text": [
      " 나가기\n"
     ]
    },
    {
     "name": "stdout",
     "output_type": "stream",
     "text": [
      "------------------------------------------------------------\n",
      "메뉴를 선택해주세요.\n",
      "1.입력\n",
      "2. 전체출력\n",
      "3. 영어로검색\n",
      "4. 한글로검색\n",
      "5. 종료\n"
     ]
    },
    {
     "name": "stdin",
     "output_type": "stream",
     "text": [
      ">>  한글로검색\n"
     ]
    },
    {
     "name": "stdout",
     "output_type": "stream",
     "text": [
      "한글로 검색을 선택하셨습니다.\n",
      "한글을 입력하세요.\n"
     ]
    },
    {
     "name": "stdin",
     "output_type": "stream",
     "text": [
      " 바나나\n"
     ]
    },
    {
     "name": "stdout",
     "output_type": "stream",
     "text": [
      "banana\n",
      "계속 검색 가능 합니다.\n",
      "나가시려면 나가기를 입력해주세요.\n"
     ]
    },
    {
     "name": "stdin",
     "output_type": "stream",
     "text": [
      " 낙타\n"
     ]
    },
    {
     "name": "stdout",
     "output_type": "stream",
     "text": [
      "camel\n",
      "계속 검색 가능 합니다.\n",
      "나가시려면 나가기를 입력해주세요.\n"
     ]
    },
    {
     "name": "stdin",
     "output_type": "stream",
     "text": [
      " 안녕\n"
     ]
    },
    {
     "name": "stdout",
     "output_type": "stream",
     "text": [
      "사전에 존재하지 않는 단어입니다.\n"
     ]
    },
    {
     "name": "stdin",
     "output_type": "stream",
     "text": [
      " 나가기\n"
     ]
    },
    {
     "name": "stdout",
     "output_type": "stream",
     "text": [
      "------------------------------------------------------------\n",
      "메뉴를 선택해주세요.\n",
      "1.입력\n",
      "2. 전체출력\n",
      "3. 영어로검색\n",
      "4. 한글로검색\n",
      "5. 종료\n"
     ]
    },
    {
     "name": "stdin",
     "output_type": "stream",
     "text": [
      ">>  종료\n"
     ]
    },
    {
     "name": "stdout",
     "output_type": "stream",
     "text": [
      "영한사전 종료 !\n"
     ]
    }
   ],
   "source": [
    "# Dict() 함수 = 딕셔너리를 이용한 영한사전을 구현\n",
    "def Dict():\n",
    "    \n",
    "    # 메뉴 선택 반복 실행\n",
    "    while True:\n",
    "        \n",
    "        try:\n",
    "            \n",
    "            # 메뉴 출력\n",
    "            print(\"메뉴를 선택해주세요.\")\n",
    "            print(\"1.입력\")\n",
    "            print(\"2. 전체출력\")\n",
    "            print(\"3. 영어로검색\")\n",
    "            print(\"4. 한글로검색\")\n",
    "            print(\"5. 종료\")\n",
    "            \n",
    "            # menu = 사용자 선택 메뉴\n",
    "            menu = input(\">> \")\n",
    "            \n",
    "        # try 블록 중 에러 발생 시 실행 \n",
    "        except:\n",
    "            print(\"오류 발생. 다시 입력해주세요.\")\n",
    "            continue\n",
    "        \n",
    "        # try 블록 중 에러가 없을 때 실행 \n",
    "        else:\n",
    "            \n",
    "            # 1. 입력 메뉴\n",
    "            if menu == \"입력\":\n",
    "                print(\"입력을 선택하셨습니다.\")\n",
    "                print(\"영단어:한글단어 쌍으로 입력해주시고, 끝났다면 나가기를 입력해주세요.\")\n",
    "                \n",
    "                # my_dic = 입력 받은 쌍을 저장하는 딕셔너리 \n",
    "                my_dic = {}\n",
    "                \n",
    "                # 입력 반복 실행 \n",
    "                while True:\n",
    "                    \n",
    "                    # word = 사용자 입력 딕셔너리 쌍을 저장하는 변수\n",
    "                    word = input()\n",
    "                    \n",
    "                    # 나가기 입력 - 입력 종료 \n",
    "                    if word == \"나가기\":\n",
    "                        print(\"------------------------------------------------------------\")\n",
    "                        break\n",
    "                    \n",
    "                    # 단어쌍 입력 - 입력 재진행 \n",
    "                    else:\n",
    "                        \n",
    "                        # eng = 사용자 입력쌍(영단어(key):한글(value)) 중 영단어(key)를 저장하는 변수 \n",
    "                        eng = word.split(':')[0]\n",
    "                        \n",
    "                        # kor = 사용자 입력쌍(영단어(key):한글(value)) 중 한글(value)을 저장하는 변수 \n",
    "                        kor = word.split(':')[1]\n",
    "                        \n",
    "                        # 입력 받은 쌍 my_dic에 저장\n",
    "                        my_dic[eng] = kor\n",
    "                        continue\n",
    "            \n",
    "            # 2. 출력 메뉴        \n",
    "            elif menu == \"전체출력\":\n",
    "                print(\"전체출력 결과입니다.\")\n",
    "                \n",
    "                # for 문 = items() 함수 이용하여 my_dic 내 모든 key : value 쌍 추출\n",
    "                for key, value in my_dic.items():\n",
    "                    \n",
    "                    # 영단어(key) : 한글(value) 형태로 출력\n",
    "                    print(key+\":\"+value)\n",
    "                    \n",
    "                print(\"------------------------------------------------------------\")\n",
    "                continue\n",
    "                \n",
    "            # 3. 영어로 검색 메뉴\n",
    "            elif menu == \"영어로검색\":\n",
    "                print(\"영어로 검색을 선택하셨습니다.\")\n",
    "                print(\"영단어를 입력하세요.\")\n",
    "                \n",
    "                # 입력 반복 실행\n",
    "                while True:\n",
    "                    \n",
    "                    # eng_word = 사용자의 영단어 입력을 저장하는 변수\n",
    "                    eng_word = input()\n",
    "                \n",
    "                    # 나가기 입력 - 입력 종료\n",
    "                    if eng_word == \"나가기\":\n",
    "                        print(\"------------------------------------------------------------\")\n",
    "                        break\n",
    "                    \n",
    "                    # 영단어 입력 \n",
    "                    # 입력 받은 영단어가 my_dic의 key값으로 존재할 때 - 입력 재진행\n",
    "                    elif eng_word in my_dic.keys():\n",
    "                        \n",
    "                        # 영단어(key)의 한글단어(value) 출력\n",
    "                        print(my_dic[eng_word])\n",
    "                        \n",
    "                        print(\"계속 검색 가능 합니다.\")\n",
    "                        print(\"나가시려면 나가기를 입력해주세요.\")\n",
    "                        continue\n",
    "                    \n",
    "                    # 입력 받은 영단어가 my_dic의 key값으로 존재하지 않을 때 - 입력 재진행\n",
    "                    else:\n",
    "                        print(\"사전에 존재하지 않는 단어입니다.\")\n",
    "                        continue\n",
    "            \n",
    "            # 4. 한글로 검색 메뉴\n",
    "            elif menu == \"한글로검색\":\n",
    "                print(\"한글로 검색을 선택하셨습니다.\")\n",
    "                print(\"한글을 입력하세요.\")\n",
    "                \n",
    "                # 입력 반복 실행\n",
    "                while True:\n",
    "                    \n",
    "                    # kor_word = 사용자의 한글단어 입력을 저장하는 변수\n",
    "                    kor_word = input()\n",
    "                \n",
    "                    # 나가기 입력 - 입력 종료\n",
    "                    if kor_word == \"나가기\":\n",
    "                        print(\"------------------------------------------------------------\")\n",
    "                        break\n",
    "                    \n",
    "                    # 한글단어 입력 \n",
    "                    # 입력 받은 한글이 my_dic의 value값으로 존재할 때 - 입력 재진행\n",
    "                    elif kor_word in my_dic.values():\n",
    "                        \n",
    "                        for key, value in my_dic.items():\n",
    "                            if value == kor_word:\n",
    "                                \n",
    "                                # 한글단어(value)의 영단어(key) 출력\n",
    "                                print(key)\n",
    "                                print(\"계속 검색 가능 합니다.\")\n",
    "                                print(\"나가시려면 나가기를 입력해주세요.\")\n",
    "                                continue\n",
    "                                \n",
    "                    # 입력 받은 한글단어가 my_dic의 value값으로 존재하지 않을 때 - 입력 재진행            \n",
    "                    else:\n",
    "                        print(\"사전에 존재하지 않는 단어입니다.\")\n",
    "                        continue\n",
    "                \n",
    "                \n",
    "                    \n",
    "            # 5. 종료 메뉴 \n",
    "            elif menu == \"종료\":\n",
    "                print(\"영한사전 종료 !\")\n",
    "                break\n",
    "# 함수 호출                \n",
    "Dict()\n",
    "            "
   ]
  },
  {
   "cell_type": "code",
   "execution_count": null,
   "id": "c1975bbc-5075-4d6e-9300-d031f264effb",
   "metadata": {},
   "outputs": [],
   "source": []
  }
 ],
 "metadata": {
  "kernelspec": {
   "display_name": "Python 3",
   "language": "python",
   "name": "python3"
  },
  "language_info": {
   "codemirror_mode": {
    "name": "ipython",
    "version": 3
   },
   "file_extension": ".py",
   "mimetype": "text/x-python",
   "name": "python",
   "nbconvert_exporter": "python",
   "pygments_lexer": "ipython3",
   "version": "3.7.11"
  }
 },
 "nbformat": 4,
 "nbformat_minor": 5
}
