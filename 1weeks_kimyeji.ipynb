{
 "cells": [
  {
   "cell_type": "markdown",
   "id": "086d6a7b-0306-46db-ac25-c7b9c7b52210",
   "metadata": {},
   "source": [
    "# - 변수(숫자, 문자, 리스트)"
   ]
  },
  {
   "cell_type": "markdown",
   "id": "3b079f2b-607c-4b55-91b6-e10953fcc222",
   "metadata": {},
   "source": [
    "> 1. 홍길동 씨의 국어, 수학, 영의 점수는 차례대로 50, 80, 30이다. 모두 변수로 선언하고, 평균을 출력하라."
   ]
  },
  {
   "cell_type": "code",
   "execution_count": 81,
   "id": "69418847-cae0-4e54-8564-6225fd7c15ad",
   "metadata": {},
   "outputs": [
    {
     "name": "stdout",
     "output_type": "stream",
     "text": [
      "홍길동 님의 평균 점수: 53.333333점\n"
     ]
    }
   ],
   "source": [
    "# kor_score = 국어 점수를 저장하는 실수형 변수\n",
    "kor_score = 50.0\n",
    "\n",
    "# math_score = 수학 점수를 저장하는 실수형 변수\n",
    "math_score = 80.0\n",
    "\n",
    "# eng_score = 영어 점수를 저장하는 실수형 변수\n",
    "eng_score = 30.0\n",
    "\n",
    "# avg_score = 평균 점수를 저장하는 실수형 변수\n",
    "avg_score = (kor_score + math_score + eng_score)/3\n",
    "\n",
    "# print 출력문으로 평균 값(avg_score) 출력\n",
    "print(\"홍길동 님의 평균 점수: %f점\" %avg_score)"
   ]
  },
  {
   "cell_type": "markdown",
   "id": "1fbd987b-4de3-4100-b252-5c3746e852fe",
   "metadata": {},
   "source": [
    "> 2. 자연수 409298570가 짝수인지 프로그래밍으로 판별하라."
   ]
  },
  {
   "cell_type": "code",
   "execution_count": 80,
   "id": "998637b6-e5c7-436d-ac0c-ca978bf32e5c",
   "metadata": {},
   "outputs": [
    {
     "name": "stdout",
     "output_type": "stream",
     "text": [
      "자연수 409298570 는 짝수입니다.\n"
     ]
    }
   ],
   "source": [
    "# num = 자연수 409298570 를 저장할 정수형 변수\n",
    "num = 409298570\n",
    "# if 문을 통해 자연수 num을 2로 나누었을 때, 나머지가 0이면 짝수\n",
    "if num % 2 == 0:\n",
    "    print(\"자연수 %d 는 짝수입니다.\" %num)\n",
    "# if문을 만족하지 못한 경우, else 문을 통해 자연수 num이 홀수\n",
    "else:\n",
    "    print(\"자연수 %d 는 홀수 입니다.\"  %num)"
   ]
  },
  {
   "cell_type": "markdown",
   "id": "5be08458-e32e-4bc0-8a37-07f84939726c",
   "metadata": {},
   "source": [
    "> 3. 다음과 같이 \"국어:수학:영어:프로그래밍\" 이라는 문자열이 있다. 내장함수를 이용하여 \"국어, 수학, 영어, 프로그래밍\"으로 바꿔 출력하라."
   ]
  },
  {
   "cell_type": "code",
   "execution_count": 79,
   "id": "038effb3-9005-4e70-ae9d-6c581f91e38b",
   "metadata": {},
   "outputs": [
    {
     "name": "stdout",
     "output_type": "stream",
     "text": [
      "['국어', '수학', '영어', '프로그래밍']\n"
     ]
    }
   ],
   "source": [
    "# ls = \"국어:수학:영어:프로그래밍\" 이라는 문자열을 저장하는 (문자열) 변수\n",
    "ls = \"국어:수학:영어:프로그래밍\"\n",
    "# split()함수 = \":\" 문자를 구분자로 하여 문자열을 나누고 출력\n",
    "print(ls.split(\":\"))"
   ]
  },
  {
   "cell_type": "markdown",
   "id": "683d5a1b-662e-4794-82a2-5ba98fb1d7a3",
   "metadata": {},
   "source": [
    "> 4. 다음과 같은 리스트가 있다. [1, 70, 3, 80, 5]. 내장함수를 이용해서 뒤집어서 [5, 80, 3, 70, 1]로 만들고 출력하라."
   ]
  },
  {
   "cell_type": "code",
   "execution_count": 78,
   "id": "62556ded-b1ef-4010-90e2-2812821d697f",
   "metadata": {},
   "outputs": [
    {
     "name": "stdout",
     "output_type": "stream",
     "text": [
      "새로 정렬된 리스트 : [5, 80, 3, 70, 1]\n"
     ]
    }
   ],
   "source": [
    "# num_ls = 1, 70, 3, 80, 5 값을 저장하는 리스트\n",
    "num_ls = [1, 70, 3, 80, 5]\n",
    "# reverse()함수 = 리스트(num_ls)를 뒤집어 정렬 해줌\n",
    "num_ls.reverse()\n",
    "# new_ls 를 출력\n",
    "print(\"새로 정렬된 리스트 : %s\" %num_ls)"
   ]
  },
  {
   "cell_type": "markdown",
   "id": "c5995c92-f722-4b96-b972-6e09cffab503",
   "metadata": {
    "jp-MarkdownHeadingCollapsed": true,
    "tags": []
   },
   "source": [
    "> 5. 다음과 같은 리스트가 있다. [\"파이썬은\", \"정말\", \"편하다\"]. 내장함수를 이용하여 \"파이썬은 정말 편하다\"를 만들고 출력하라."
   ]
  },
  {
   "cell_type": "code",
   "execution_count": 108,
   "id": "ddaccd41-89ed-42b9-9905-e623cbd2fa1e",
   "metadata": {},
   "outputs": [
    {
     "name": "stdout",
     "output_type": "stream",
     "text": [
      "파이썬은 정말 편하다 "
     ]
    }
   ],
   "source": [
    "# ls = [\"파이썬은\", \"정말\", \"편하다\"] 를 저장하는 (리스트) 변수\n",
    "ls =  [\"파이썬은\", \"정말\", \"편하다\"]\n",
    "# for문과 end 매개변수를 통해 리스트 요소를 한줄로 출력\n",
    "for i in ls:\n",
    "    print(i, end=' ')"
   ]
  },
  {
   "cell_type": "markdown",
   "id": "a72370c1-7c8a-4338-9a7f-e8acca675ee0",
   "metadata": {},
   "source": [
    "> 6. 다음과 같은 리스트가 있다. [1, 50, 410, 10, 3, 4, 5]. 내장함수를 이용해서 오름차순으로 정렬하고 출력하라."
   ]
  },
  {
   "cell_type": "code",
   "execution_count": 76,
   "id": "59f0a773-1d59-47a0-9655-6eeeda553ac2",
   "metadata": {},
   "outputs": [
    {
     "name": "stdout",
     "output_type": "stream",
     "text": [
      "오름차순으로 정렬된 리스트: [1, 3, 4, 5, 10, 50, 410]\n"
     ]
    }
   ],
   "source": [
    "# num_ls = [1, 50, 410, 10, 3, 4, 5]를 저장하는 (리스트) 변수\n",
    "num_ls = [1, 50, 410, 10, 3, 4, 5]\n",
    "# sort() 함수 = 리스트를 오름차순으로 정렬\n",
    "num_ls.sort()\n",
    "# 오름차순으로 정렬한 리스트를 출력\n",
    "print(\"오름차순으로 정렬된 리스트: %s\" %num_ls)\n"
   ]
  },
  {
   "cell_type": "markdown",
   "id": "c00532f7-a964-48f6-9bc6-c375f83eda1f",
   "metadata": {},
   "source": [
    "> 7. 다음과 같은 문자열이 있다. \" I love python \". 양쪽의 공백을 내장함수를 이용해서 지우고 출력하라."
   ]
  },
  {
   "cell_type": "code",
   "execution_count": 75,
   "id": "cf9d980f-8765-4f3e-bb91-3f19248442f7",
   "metadata": {},
   "outputs": [
    {
     "name": "stdout",
     "output_type": "stream",
     "text": [
      " I love python \n"
     ]
    }
   ],
   "source": [
    "# py_ls = \" I love python \" 를 저장하는 (문자열) 변수\n",
    "py_ls = \" I love python \"\n",
    "# lstrip() 함수 = 왼쪽 공백을 지우는 함수\n",
    "py_ls.lstrip()\n",
    "# rstrip() 함수 = 오른쪽 공백을 지우는 함수\n",
    "py_ls.rstrip()\n",
    "# 공백을 지운 문자열 출력\n",
    "print(py_ls)"
   ]
  },
  {
   "cell_type": "markdown",
   "id": "bbdc8421-e91f-48ff-a496-4ebcc08e6f44",
   "metadata": {
    "tags": []
   },
   "source": [
    "# - 제어문"
   ]
  },
  {
   "cell_type": "markdown",
   "id": "e48433d3-5f94-4613-bb8d-ba90147d4a9e",
   "metadata": {},
   "source": [
    "> 1. for문을 이용해서 1부터 100까지의 수를 더하고 출력하라."
   ]
  },
  {
   "cell_type": "code",
   "execution_count": 54,
   "id": "4249cdfd-754e-40d2-bbe7-52802665d72b",
   "metadata": {},
   "outputs": [
    {
     "name": "stdout",
     "output_type": "stream",
     "text": [
      "1부터 100까지의 합은 : 5050 입니다. \n"
     ]
    }
   ],
   "source": [
    "# sum = 변수들의 합을 저장해줄 정수형 변수, 0으로 초기화\n",
    "sum = 0\n",
    "# for문 = 1이상 101미만(100)의 반복 루프를 실행. i의 증가값 = 디폴트 값(1씩 증가)\n",
    "for i in range(1,101):\n",
    "    # sum = 범위내 반복문을 거치는 변수 i의 합 저장\n",
    "    sum += i\n",
    "# 출력\n",
    "print(\"1부터 100까지의 합은 : %d 입니다. \" %sum)"
   ]
  },
  {
   "cell_type": "markdown",
   "id": "072d7df0-e3ed-4515-a84a-dcaf1f6d3df9",
   "metadata": {},
   "source": [
    "> 2. while문을 이용해서 1부터 100까지의 수를 더하고 출력하라."
   ]
  },
  {
   "cell_type": "code",
   "execution_count": 49,
   "id": "1560c8ec-4508-4d79-adcc-677cc77204d1",
   "metadata": {},
   "outputs": [
    {
     "name": "stdout",
     "output_type": "stream",
     "text": [
      "1부터 100까지의 합은 : 5050 입니다. \n"
     ]
    }
   ],
   "source": [
    "# sum = 변수들의 합을 저장해줄 정수형 변수, 0으로 초기화 \n",
    "sum = 0\n",
    "# i = 반복문에 쓰일 변수 1로 초기화\n",
    "i = 1\n",
    "# while문 = i는 1부터 101미만(100)의 반복 루프 실행\n",
    "while(i<101):\n",
    "    #sum 변수에 i 값을 더하고\n",
    "    sum += i\n",
    "    # 변수 i 값을 1 증가 \n",
    "    i+=1\n",
    "# 출력\n",
    "print(\"1부터 100까지의 합은 : %d 입니다. \" %sum)"
   ]
  },
  {
   "cell_type": "markdown",
   "id": "d5ec3291-715f-4379-b48c-ac6ee211bb82",
   "metadata": {},
   "source": [
    "> 3. 1부터 100까지 3의 배수만 더하고 출력하라."
   ]
  },
  {
   "cell_type": "code",
   "execution_count": 48,
   "id": "5a274bca-e4fa-43aa-8016-56eb25d06c34",
   "metadata": {},
   "outputs": [
    {
     "name": "stdout",
     "output_type": "stream",
     "text": [
      "1683\n"
     ]
    }
   ],
   "source": [
    "# sum = 변수의 합을 저장해주는 정수형 변수\n",
    "sum = 0\n",
    "# for문 = 1이상 101미만(100)의 반복 루프 실행. i의 증가값 = 디폴트 값(1씩 증가)\n",
    "for i in range(1,101):\n",
    "    # i가 3의 배수 일 때\n",
    "    if i%3 == 0:\n",
    "        # 변수 sum에 i 값을 저장\n",
    "        sum += i\n",
    "        \n",
    "# 출력\n",
    "print(sum)\n",
    "    "
   ]
  },
  {
   "cell_type": "code",
   "execution_count": 44,
   "id": "4c1c1664-8eac-4367-ade0-41ecefeaa7cd",
   "metadata": {},
   "outputs": [
    {
     "name": "stdout",
     "output_type": "stream",
     "text": [
      "학생들의 중간고사 평균 점수 : 79.0 점\n"
     ]
    }
   ],
   "source": [
    "# score_ls = 점수를 저장하는 리스트\n",
    "score_ls = [70, 60, 55, 75, 95, 90, 80, 80, 85, 100]\n",
    "\n",
    "# sum_score = 점수 총합을 저장할 변수 \n",
    "sum_score = 0 \n",
    "\n",
    "# for문 = score_ls에 있는 각각의 점수(리스트의 요소)에 접근\n",
    "for score in score_ls:\n",
    "    \n",
    "    # 각각의 점수(score)를 sum_score 변수에 더함\n",
    "    sum_score += score\n",
    "    \n",
    "# avg_score = 점수의 평균값 == 점수의 총합 / 리스트의길이(학생수)\n",
    "avg_score = sum_score / len(score_ls)\n",
    "\n",
    "# 출력(소수점 1자리까지)\n",
    "print(\"학생들의 중간고사 평균 점수 : %.1f 점\" %avg_score)"
   ]
  },
  {
   "cell_type": "markdown",
   "id": "053af1ad-c546-4b6a-a422-350b814ce873",
   "metadata": {},
   "source": [
    "> 5. 다음과 같은 리스트가 있다. [1, 3, 5, 40, 90, 100, 2020]. for문을 사용해서 홀수에만 2를 곱하고 리스트를 출력하라."
   ]
  },
  {
   "cell_type": "code",
   "execution_count": 40,
   "id": "c89bda1f-1035-4750-886c-ce05dda5ada7",
   "metadata": {},
   "outputs": [
    {
     "name": "stdout",
     "output_type": "stream",
     "text": [
      "[2, 6, 10]\n"
     ]
    }
   ],
   "source": [
    "# numlis = [1, 3, 5, 40, 90, 100, 2020]를 저장하는 리스트 변수\n",
    "numlis = [1, 3, 5, 40, 90, 100, 2020]\n",
    "# oddnumlis = 기존 리스트의 홀수 값만 저장할 새로운 리스트 \n",
    "oddnumlis = []\n",
    "# for문 = numlis 내의 모든 값에 접근\n",
    "for num in numlis:\n",
    "    # numlis 의 요소가 홀수라면\n",
    "    if num % 2 ==  1:\n",
    "        # 해당 값을 곱하기 2한 뒤, oddnumlis에 추가\n",
    "        oddnumlis.append(num*2)\n",
    "# 출력\n",
    "print(oddnumlis)"
   ]
  },
  {
   "cell_type": "markdown",
   "id": "ad161ecb-0fa3-4006-b525-ce94b95c0a1d",
   "metadata": {},
   "source": [
    "> 6. for문을 이용해 다음을 출력하라"
   ]
  },
  {
   "cell_type": "code",
   "execution_count": 69,
   "id": "63822687-84ec-4409-aedb-e02e7b514ad0",
   "metadata": {},
   "outputs": [
    {
     "name": "stdout",
     "output_type": "stream",
     "text": [
      "*\n",
      "**\n",
      "***\n",
      "****\n",
      "*****\n"
     ]
    }
   ],
   "source": [
    "# 0부터 5미만(총 4번)의 반복문 초기화 \n",
    "for i in range(0,5):\n",
    "    # 문자열 \"*\"을 i+1개씩 출력(i의 초기값이 0이기 떄문에 i+1)\n",
    "    print(\"*\"* (i+1))"
   ]
  },
  {
   "cell_type": "markdown",
   "id": "eb179add-fbdb-4184-ba45-723a9cfe25de",
   "metadata": {},
   "source": [
    "# - 함수와 입출력"
   ]
  },
  {
   "cell_type": "markdown",
   "id": "b5b5ec91-c3e1-416f-a191-2f2bc476697c",
   "metadata": {},
   "source": [
    "> 1. 학점산출함수를 만들어라. 학생의 점수를 입력할 수 있고, 점수를 기반으로 학점을 매겨주고 출력해야한다.(A : 100~80, B : 79 ~ 50, C : 49 ~ 30, F : 29 ~)"
   ]
  },
  {
   "cell_type": "code",
   "execution_count": 103,
   "id": "99f47765-0522-49ba-a8be-a4876bda2450",
   "metadata": {},
   "outputs": [
    {
     "name": "stdin",
     "output_type": "stream",
     "text": [
      "점수를 입력하세요 : -12\n"
     ]
    },
    {
     "name": "stdout",
     "output_type": "stream",
     "text": [
      "잘못된 점수입니다. 다시 입력해주세요 !\n"
     ]
    },
    {
     "name": "stdin",
     "output_type": "stream",
     "text": [
      "점수를 입력하세요 : 133\n"
     ]
    },
    {
     "name": "stdout",
     "output_type": "stream",
     "text": [
      "잘못된 점수입니다. 다시 입력해주세요 !\n"
     ]
    },
    {
     "name": "stdin",
     "output_type": "stream",
     "text": [
      "점수를 입력하세요 : 85\n"
     ]
    },
    {
     "name": "stdout",
     "output_type": "stream",
     "text": [
      "85점은 A 학점 입니다 !\n"
     ]
    }
   ],
   "source": [
    "# cal_score = 학생들의 점수를 입력받고 학점을 반환하는 함수.(점수값이 음수이면, 오류 메시지를 출력하고 재입력)\n",
    "def cal_score():\n",
    "    while(1):\n",
    "        #score = 점수를 저장하는 변수\n",
    "        score = int(input(\"점수를 입력하세요 :\"))\n",
    "        if score < 0 or score > 100:\n",
    "            print(\"잘못된 점수입니다. 다시 입력해주세요 !\")\n",
    "            continue\n",
    "            # 입력받은 점수가 정수가 아니거나 100이상일 때, 다시 while문으로 돌아가 재입력\n",
    "        elif score>=80 and score<=100:\n",
    "            print(\"%d점은 A 학점 입니다 !\" %score)\n",
    "            break\n",
    "        elif score>=50 and score<=79:\n",
    "            print(\"%d점은 B 학점 입니다 !\" %score)\n",
    "            break\n",
    "        elif score>=30 and score<=49:\n",
    "            print(\"%d점은 C 학점 입니다 !\" %score)   \n",
    "            break\n",
    "        else:\n",
    "            print(\"%d점 은 F 학점 입니다 ㅠㅠ\" %score)\n",
    "            break\n",
    "\n",
    "#함수 호출\n",
    "cal_score()"
   ]
  },
  {
   "cell_type": "markdown",
   "id": "7042c26a-3a54-4200-9308-745e65e7bdd4",
   "metadata": {},
   "source": [
    "> 2. 짝수 판별 프로그램을 만들어라. 수를 하나 입력할 수 있고, 그 수가 짝수이면 True, 홀수이면 False를 리턴한다."
   ]
  },
  {
   "cell_type": "code",
   "execution_count": 101,
   "id": "0e830419-3b41-4a70-97e1-569442fb003a",
   "metadata": {},
   "outputs": [
    {
     "name": "stdin",
     "output_type": "stream",
     "text": [
      "수를 입력 : -10\n"
     ]
    },
    {
     "name": "stdout",
     "output_type": "stream",
     "text": [
      "정수를 입력하세요.\n"
     ]
    },
    {
     "name": "stdin",
     "output_type": "stream",
     "text": [
      "수를 입력 : 3\n"
     ]
    },
    {
     "data": {
      "text/plain": [
       "False"
      ]
     },
     "execution_count": 101,
     "metadata": {},
     "output_type": "execute_result"
    }
   ],
   "source": [
    "# check_num() = 입력 받은 함수가 짝수 인지 홀수 인지 판별하는 함수\n",
    "def check_num():\n",
    "    while(1):\n",
    "        num = int(input(\"수를 입력 :\"))\n",
    "        if num < 0:\n",
    "            print(\"정수를 입력하세요.\")\n",
    "            continue\n",
    "            # 정수가 아니면 다시 while문으로 돌아가 재입력을 받음\n",
    "        # 입력받은 수가 짝수일 때    \n",
    "        elif num %2 == 0:\n",
    "            return True\n",
    "        # 홀수일 때\n",
    "        else:\n",
    "            return False\n",
    "\n",
    "# 함수 호출\n",
    "check_num()"
   ]
  },
  {
   "cell_type": "markdown",
   "id": "e24359e4-cef7-4786-baaa-8a730d74af2f",
   "metadata": {},
   "source": [
    "> 3. 주민등록번호 판별 프로그램을 만들어라. 주민등록번호를 입력할 수 있고, 그 번호를 통해 몇년생인지, 그리고 남자 인지 여자인지를 판별하고 출력해야한다."
   ]
  },
  {
   "cell_type": "code",
   "execution_count": 39,
   "id": "aceea825-1aab-4b6b-afe8-b3257be4327c",
   "metadata": {},
   "outputs": [
    {
     "name": "stdin",
     "output_type": "stream",
     "text": [
      "주민번호를 입력하세요 : 970719-1234567\n"
     ]
    },
    {
     "name": "stdout",
     "output_type": "stream",
     "text": [
      "97년생, 남자\n"
     ]
    }
   ],
   "source": [
    "while(1):\n",
    "    # sec_num = 주민번호를 저장할 변수\n",
    "    sec_num = input(\"주민번호를 입력하세요 :\")\n",
    "    \n",
    "    # 입력한 주민번호 형식이 14글자가 아닐 때 재입력 \n",
    "    if len(sec_num) != 14:\n",
    "        print(\"주민번호 오류입니다. 다시 입력해주세요.\")\n",
    "        continue\n",
    "        \n",
    "    # 주민번호를 제대로 입력했을 때\n",
    "    else:\n",
    "        # birth = 생년도를 저장하는 변수, 주민번호를 str형으로 입력받았으므로 정수로 강제 형변환\n",
    "        birth = int(sec_num[:2])\n",
    "        \n",
    "        # male_female = 성별을 저장하는 변수, 주민번호를 str형으로 입력받았으므로 정수로 강제 형변환\n",
    "        male_female = int(sec_num[7])\n",
    "        \n",
    "        # 주민번호의 뒷자리가 2의 배수일때(여자)\n",
    "        if male_female % 2 == 0:\n",
    "            print(\"%s년생, 여자\" %birth);\n",
    "            \n",
    "        # 2의 배수가 아닐 때(남자)\n",
    "        else:\n",
    "            print(\"%s년생, 남자\" %birth);\n",
    "        break"
   ]
  },
  {
   "cell_type": "markdown",
   "id": "744ee427-fe24-494e-bd59-c19acc7d9b31",
   "metadata": {},
   "source": [
    "> 4. 간단한 계산기 함수를 만들어라. 사칙연산과 나머지 연산이 되어야한다."
   ]
  },
  {
   "cell_type": "code",
   "execution_count": 128,
   "id": "d6eacccb-2957-4d56-895f-3f200037a1d8",
   "metadata": {},
   "outputs": [
    {
     "name": "stdin",
     "output_type": "stream",
     "text": [
      "정수1을 입력 : 35\n",
      "연산자 입력(+,-,*,/,%) : +\n",
      "정수2를 입력 : 4\n"
     ]
    },
    {
     "data": {
      "text/plain": [
       "39"
      ]
     },
     "execution_count": 128,
     "metadata": {},
     "output_type": "execute_result"
    }
   ],
   "source": [
    "def Cal():\n",
    "    # num1 = 첫번째 정수 입력\n",
    "    num1 = int(input(\"정수1을 입력 :\"))\n",
    "    \n",
    "    # oper = 연산자(+,-,*,/,%) 입력\n",
    "    oper = input(\"연산자 입력(+,-,*,/,%) :\")\n",
    "    \n",
    "    # num2 = 두번째 정수 입력\n",
    "    num2 = int(input(\"정수2를 입력 :\"))\n",
    "    \n",
    "    # oper(연산자)에 따른 조건문\n",
    "    if oper == '+':\n",
    "        return num1 + num2\n",
    "\n",
    "    elif oper == '-':\n",
    "        return num1 - num2\n",
    "    \n",
    "    elif oper == '*':\n",
    "        return num1 * num2\n",
    "    \n",
    "    elif oper == '/':\n",
    "        return num1 / num2\n",
    "    \n",
    "    elif oper == '%':\n",
    "        return num1 % num2\n",
    "    \n",
    "    # +,-,/,%,* 이외의 문자를 연산자로 입력했을 때\n",
    "    else:\n",
    "        return \"operation error\"\n",
    "\n",
    "#함수 호출    \n",
    "Cal()"
   ]
  },
  {
   "cell_type": "markdown",
   "id": "0a79a83f-f266-4fa7-9974-a09f98be8204",
   "metadata": {},
   "source": [
    "> 5. 거스름돈 함수를 만들어라. 금액을 입력하면 거스름돈을 출력해야한다."
   ]
  },
  {
   "cell_type": "code",
   "execution_count": 55,
   "id": "d3c3c6f5-bf52-4510-bd23-f634f5a61948",
   "metadata": {},
   "outputs": [
    {
     "name": "stdin",
     "output_type": "stream",
     "text": [
      "금액 입력:  6890\n"
     ]
    },
    {
     "name": "stdout",
     "output_type": "stream",
     "text": [
      "5000원 : 1개\n",
      "1000원 : 1개\n",
      "500원 : 1개\n",
      "100원 : 3개\n",
      "50원 : 1개\n",
      "10원 : 4개\n"
     ]
    }
   ],
   "source": [
    "# Cal_mon(n) = 거스름돈을 계산해주는 함수\n",
    "def Cal_mon(n):\n",
    "    \n",
    "    # 거스름돈 (5000원, 1000원, 500원, 100원, 50원, 10원)을 저장하는 변수들\n",
    "    money5000 = n / 5000\n",
    "    money1000 = (n % 5000) / 1000\n",
    "    money500 = (n % 1000) / 500\n",
    "    money100 = (n % 500) / 100\n",
    "    money50 = (n % 100) / 50\n",
    "    money10 = (n % 50) / 10\n",
    "    print(\"5000원 : %d개\" %money5000)\n",
    "    print(\"1000원 : %d개\" %money1000)\n",
    "    print(\"500원 : %d개\" %money500)\n",
    "    print(\"100원 : %d개\" %money100)\n",
    "    print(\"50원 : %d개\" %money50)\n",
    "    print(\"10원 : %d개\" %money10)\n",
    "\n",
    "    \n",
    "while(1):\n",
    "    # n = 0이상의 금액을 입력받는 변수\n",
    "    n = int(input(\"금액 입력: \"))\n",
    "    if n < 0 :\n",
    "        print(\"금액 오류. 다시 입력해주세요.\")\n",
    "        continue\n",
    "        \n",
    "    # n이 0 이상일 때, 함수 호출\n",
    "    else:       \n",
    "        Cal_mon(n)\n",
    "        break"
   ]
  },
  {
   "cell_type": "markdown",
   "id": "eb0c0214-3566-429a-b954-bcdb0ab74521",
   "metadata": {},
   "source": [
    "> 6. 이차방정식의 근을 구하는 함수를 만들어라. 제곱근은 파이썬 내장 모듈인 math 모듈을 통해 이용할 수 있다."
   ]
  },
  {
   "cell_type": "code",
   "execution_count": 34,
   "id": "3623b8e4-7d70-4d38-9feb-ad49936af8b3",
   "metadata": {},
   "outputs": [
    {
     "name": "stdin",
     "output_type": "stream",
     "text": [
      "2차 방정식을 입력 : 1x^2+6x-27\n"
     ]
    },
    {
     "ename": "AttributeError",
     "evalue": "'int' object has no attribute 'math'",
     "output_type": "error",
     "traceback": [
      "\u001b[1;31m---------------------------------------------------------------------------\u001b[0m",
      "\u001b[1;31mAttributeError\u001b[0m                            Traceback (most recent call last)",
      "\u001b[1;32m<ipython-input-34-990330c9fe63>\u001b[0m in \u001b[0;36m<module>\u001b[1;34m\u001b[0m\n\u001b[0;32m      9\u001b[0m \u001b[0mb\u001b[0m \u001b[1;33m=\u001b[0m \u001b[0mint\u001b[0m\u001b[1;33m(\u001b[0m\u001b[0mmath2\u001b[0m\u001b[1;33m[\u001b[0m\u001b[1;36m5\u001b[0m\u001b[1;33m]\u001b[0m\u001b[1;33m)\u001b[0m\u001b[1;33m\u001b[0m\u001b[1;33m\u001b[0m\u001b[0m\n\u001b[0;32m     10\u001b[0m \u001b[0mc\u001b[0m \u001b[1;33m=\u001b[0m \u001b[0mint\u001b[0m\u001b[1;33m(\u001b[0m\u001b[0mmath2\u001b[0m\u001b[1;33m[\u001b[0m\u001b[1;36m8\u001b[0m\u001b[1;33m:\u001b[0m\u001b[1;33m]\u001b[0m\u001b[1;33m)\u001b[0m\u001b[1;33m\u001b[0m\u001b[1;33m\u001b[0m\u001b[0m\n\u001b[1;32m---> 11\u001b[1;33m \u001b[0mMat\u001b[0m\u001b[1;33m(\u001b[0m\u001b[0ma\u001b[0m\u001b[1;33m,\u001b[0m\u001b[0mb\u001b[0m\u001b[1;33m,\u001b[0m\u001b[0mc\u001b[0m\u001b[1;33m)\u001b[0m\u001b[1;33m\u001b[0m\u001b[1;33m\u001b[0m\u001b[0m\n\u001b[0m\u001b[0;32m     12\u001b[0m \u001b[1;33m\u001b[0m\u001b[0m\n",
      "\u001b[1;32m<ipython-input-34-990330c9fe63>\u001b[0m in \u001b[0;36mMat\u001b[1;34m(a, b, c)\u001b[0m\n\u001b[0;32m      2\u001b[0m \u001b[1;33m\u001b[0m\u001b[0m\n\u001b[0;32m      3\u001b[0m \u001b[1;32mdef\u001b[0m \u001b[0mMat\u001b[0m\u001b[1;33m(\u001b[0m\u001b[0ma\u001b[0m\u001b[1;33m,\u001b[0m\u001b[0mb\u001b[0m\u001b[1;33m,\u001b[0m\u001b[0mc\u001b[0m\u001b[1;33m)\u001b[0m\u001b[1;33m:\u001b[0m\u001b[1;33m\u001b[0m\u001b[1;33m\u001b[0m\u001b[0m\n\u001b[1;32m----> 4\u001b[1;33m     \u001b[1;32mreturn\u001b[0m \u001b[1;33m(\u001b[0m\u001b[1;33m(\u001b[0m\u001b[1;33m-\u001b[0m\u001b[0mb\u001b[0m\u001b[1;33m.\u001b[0m\u001b[0mmath\u001b[0m\u001b[1;33m.\u001b[0m\u001b[0msqrt\u001b[0m\u001b[1;33m(\u001b[0m\u001b[0mb\u001b[0m\u001b[1;33m**\u001b[0m\u001b[1;36m2\u001b[0m\u001b[1;33m-\u001b[0m\u001b[1;36m4\u001b[0m\u001b[1;33m*\u001b[0m\u001b[0ma\u001b[0m\u001b[1;33m*\u001b[0m\u001b[0mc\u001b[0m\u001b[1;33m)\u001b[0m\u001b[1;33m)\u001b[0m\u001b[1;33m//\u001b[0m\u001b[1;36m2\u001b[0m\u001b[1;33m*\u001b[0m\u001b[0ma\u001b[0m\u001b[1;33m,\u001b[0m \u001b[1;33m(\u001b[0m\u001b[1;33m-\u001b[0m\u001b[0mb\u001b[0m\u001b[1;33m-\u001b[0m\u001b[0mmath\u001b[0m\u001b[1;33m.\u001b[0m\u001b[0msqrt\u001b[0m\u001b[1;33m(\u001b[0m\u001b[0mb\u001b[0m\u001b[1;33m**\u001b[0m\u001b[1;36m2\u001b[0m\u001b[1;33m-\u001b[0m\u001b[1;36m4\u001b[0m\u001b[1;33m*\u001b[0m\u001b[0ma\u001b[0m\u001b[1;33m*\u001b[0m\u001b[0mc\u001b[0m\u001b[1;33m)\u001b[0m\u001b[1;33m)\u001b[0m\u001b[1;33m/\u001b[0m\u001b[1;36m2\u001b[0m\u001b[1;33m*\u001b[0m\u001b[0ma\u001b[0m\u001b[1;33m)\u001b[0m\u001b[1;33m\u001b[0m\u001b[1;33m\u001b[0m\u001b[0m\n\u001b[0m\u001b[0;32m      5\u001b[0m \u001b[1;33m\u001b[0m\u001b[0m\n\u001b[0;32m      6\u001b[0m \u001b[1;33m\u001b[0m\u001b[0m\n",
      "\u001b[1;31mAttributeError\u001b[0m: 'int' object has no attribute 'math'"
     ]
    }
   ],
   "source": [
    "import math\n",
    "\n",
    "def Mat(a,b,c):\n",
    "    return ((-b.math.sqrt(b**2-4*a*c))//2*a, (-b-math.sqrt(b**2-4*a*c))/2*a)\n",
    "\n",
    "    \n",
    "math2 = input(\"2차 방정식을 입력 :\")  \n",
    "a = int(math2[0])\n",
    "b = int(math2[5])\n",
    "c = int(math2[8:])\n",
    "Mat(a,b,c)\n",
    "    "
   ]
  },
  {
   "cell_type": "markdown",
   "id": "0e6a633a-bd3b-4246-bcaf-7156e2a743a8",
   "metadata": {},
   "source": [
    "> 구글링을 열심히 하여 import math와 math.sqrt를 이용하여 이차방정식의 해를 구할 수 있다는 것을 알게되었습니다.\n",
    "그래서 먼저 입력 받은 이차 방정식을 인덱스와 슬라이싱을 통해 이차 방정식의 정수 a, b, c를 구하였습니다.\n",
    "\n",
    "> 그러나 .. a,b,c를 매개변수로 하여 이차방정식의 두해를 반환해주는 코드를 작성했으나\n",
    "코드: ((-b.math.sqrt(b**2-4*a*c))//2*a, (-b-math.sqrt(b**2-4*a*c))/2*a))\n",
    "\n",
    "\n",
    "> 'int' object has no attribute 'math' 라는 오류 메시지가 뜨면서\n",
    "실행되지 않았습니다 .. \n",
    "\n",
    "> float형으로 a,b,c를 조정해봤더니 그것 또한 똑같이 'int' object has no attribute 'math' 라고 오류메시지만 나옵니다,,,,\n",
    "\n",
    "\n",
    " "
   ]
  }
 ],
 "metadata": {
  "kernelspec": {
   "display_name": "Python 3",
   "language": "python",
   "name": "python3"
  },
  "language_info": {
   "codemirror_mode": {
    "name": "ipython",
    "version": 3
   },
   "file_extension": ".py",
   "mimetype": "text/x-python",
   "name": "python",
   "nbconvert_exporter": "python",
   "pygments_lexer": "ipython3",
   "version": "3.7.11"
  }
 },
 "nbformat": 4,
 "nbformat_minor": 5
}
